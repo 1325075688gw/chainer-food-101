{
 "cells": [
  {
   "cell_type": "code",
   "execution_count": 1,
   "metadata": {},
   "outputs": [],
   "source": [
    "import argparse\n",
    "import os\n",
    "import time\n",
    "\n",
    "import chainer\n",
    "import chainer.links as L\n",
    "import chainer.functions as F\n",
    "import cv2\n",
    "import numpy as np\n",
    "\n",
    "from networks.mobilenetv2 import MobilenetV2\n",
    "from networks.vgg16 import VGG16\n",
    "from networks.resnet50 import ResNet50\n",
    "from predict import prepare_setting"
   ]
  },
  {
   "cell_type": "code",
   "execution_count": 2,
   "metadata": {},
   "outputs": [],
   "source": [
    "from collections import namedtuple\n",
    "\n",
    "Args = namedtuple(\"Args\",(\"dataset\", \"model_path\", \"device\"))\n",
    "args  = Args(dataset=\"/home/terasaki/dataset/food-101/\",\n",
    "             model_path=\"resnet50/\",\n",
    "             device=-1)\n",
    "\n",
    "classes = np.genfromtxt(os.path.join(args.dataset, \"meta\", \"classes.txt\"),\n",
    "                            str,\n",
    "                            delimiter=\"\\n\")\n"
   ]
  },
  {
   "cell_type": "code",
   "execution_count": 3,
   "metadata": {},
   "outputs": [
    {
     "name": "stdout",
     "output_type": "stream",
     "text": [
      "resnet50/model_epoch_24.npz\n",
      "resnet50/args.json\n"
     ]
    }
   ],
   "source": [
    "model, preprocess, xp, test_dataset = prepare_setting(args)"
   ]
  },
  {
   "cell_type": "code",
   "execution_count": 4,
   "metadata": {},
   "outputs": [],
   "source": [
    "from matplotlib import pyplot as plt\n",
    "import random\n",
    "%matplotlib inline\n",
    "\n",
    "from ipywidgets import interact"
   ]
  },
  {
   "cell_type": "code",
   "execution_count": 5,
   "metadata": {},
   "outputs": [],
   "source": [
    "sample_indices=random.sample(range(len(test_dataset)),10)"
   ]
  },
  {
   "cell_type": "code",
   "execution_count": 6,
   "metadata": {},
   "outputs": [
    {
     "data": {
      "application/vnd.jupyter.widget-view+json": {
       "model_id": "7d9f4deeae0f4a44b27d7a7fb91295a1",
       "version_major": 2,
       "version_minor": 0
      },
      "text/plain": [
       "interactive(children=(Dropdown(description='idx', options=(17397, 4959, 17683, 3796, 16979, 3580, 24500, 7712,…"
      ]
     },
     "metadata": {},
     "output_type": "display_data"
    },
    {
     "data": {
      "text/plain": [
       "<function __main__.predict_sample(idx)>"
      ]
     },
     "execution_count": 6,
     "metadata": {},
     "output_type": "execute_result"
    }
   ],
   "source": [
    "def predict_sample(idx):\n",
    "    img, label= test_dataset.base[idx]\n",
    "    input_image = test_dataset[idx][0]\n",
    "    with chainer.using_config('train', False):\n",
    "        h = model.predictor(xp.expand_dims(xp.array(input_image), axis=0))\n",
    "    prediction = chainer.functions.softmax(h)\n",
    "    \n",
    "    if args.device >= 0:\n",
    "        prediction = xp.asnumpy(prediction[0].data)\n",
    "    else:\n",
    "        prediction = prediction[0].data\n",
    "    top_ten = np.argsort(-prediction)[:10]\n",
    "    print(classes[top_ten])\n",
    "    if classes[label] != classes[top_ten][0]:\n",
    "        plt.title(\"{} {}\".format(classes[label], classes[top_ten][0]))\n",
    "    else:\n",
    "        plt.title(\"{} {}\".format(classes[label], \"bingo\"))\n",
    "    plt.imshow(img.transpose(1,2,0).astype(np.uint8))\n",
    "    \n",
    "interact(predict_sample, idx=sample_indices)"
   ]
  }
 ],
 "metadata": {
  "kernelspec": {
   "display_name": "Python 3",
   "language": "python",
   "name": "python3"
  },
  "language_info": {
   "codemirror_mode": {
    "name": "ipython",
    "version": 3
   },
   "file_extension": ".py",
   "mimetype": "text/x-python",
   "name": "python",
   "nbconvert_exporter": "python",
   "pygments_lexer": "ipython3",
   "version": "3.5.6"
  }
 },
 "nbformat": 4,
 "nbformat_minor": 2
}
